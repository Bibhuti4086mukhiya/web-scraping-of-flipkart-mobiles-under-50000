{
 "cells": [
  {
   "cell_type": "code",
   "execution_count": 2,
   "id": "a97e3171",
   "metadata": {},
   "outputs": [],
   "source": [
    "import pandas as pd\n",
    "import requests\n",
    "from bs4 import BeautifulSoup"
   ]
  },
  {
   "cell_type": "code",
   "execution_count": 40,
   "id": "5bbced7a",
   "metadata": {},
   "outputs": [],
   "source": [
    "product_name=[]\n",
    "prices=[]\n",
    "description=[]\n",
    "\n",
    "\n",
    "for j in range(2,12):\n",
    "    url='https://www.flipkart.com/search?q=mobile+under+50000&otracker=search&otracker1=search&marketplace=FLIPKART&as-show=on&as=off&page='+str(j)\n",
    "    r=requests.get(url)\n",
    "    # print(r)\n",
    "    soup = BeautifulSoup(r.text,\"lxml\")\n",
    "    box=soup.find('div',class_='_1YokD2 _3Mn1Gg')\n",
    "\n",
    "\n",
    "    name_lists=box.find_all('div',class_='_4rR01T')\n",
    "    for i in name_lists:\n",
    "        name=i.text\n",
    "        product_name.append(name)\n",
    "#     print(len(product_name))\n",
    "\n",
    "    prices_list=box.find_all('div',class_='_30jeq3')\n",
    "    for i in prices_list:\n",
    "        price=i.text\n",
    "        prices.append(price)\n",
    "#     print(len(prices))\n",
    "\n",
    "    description_list=box.find_all('ul',class_='_1xgFaf')\n",
    "    for i in description_list:\n",
    "        desc=i.text\n",
    "        description.append(desc)\n",
    "#     print(len(description))\n",
    "\n",
    "\n",
    "df=pd.DataFrame({'Product Name':product_name,'Prices':prices,'Description':description})\n",
    "df.to_csv('flipkart_moblies_under_50000.csv')\n",
    "\n"
   ]
  },
  {
   "cell_type": "code",
   "execution_count": 56,
   "id": "8f437ec8",
   "metadata": {},
   "outputs": [
    {
     "name": "stdout",
     "output_type": "stream",
     "text": [
      "/search?q=mobile+under+50000&otracker=search&otracker1=search&marketplace=FLIPKART&as-show=on&as=off&page=2\n"
     ]
    }
   ],
   "source": [
    "\n",
    "nextpage=soup.find('a',class_=\"_1LKTO3\").get(\"href\")\n",
    "print(nextpage)\n",
    "\n",
    "full_link='https://www.flipkart.com'+nextpage\n",
    "url =full_link\n"
   ]
  }
 ],
 "metadata": {
  "kernelspec": {
   "display_name": "Python 3 (ipykernel)",
   "language": "python",
   "name": "python3"
  },
  "language_info": {
   "codemirror_mode": {
    "name": "ipython",
    "version": 3
   },
   "file_extension": ".py",
   "mimetype": "text/x-python",
   "name": "python",
   "nbconvert_exporter": "python",
   "pygments_lexer": "ipython3",
   "version": "3.9.12"
  }
 },
 "nbformat": 4,
 "nbformat_minor": 5
}
